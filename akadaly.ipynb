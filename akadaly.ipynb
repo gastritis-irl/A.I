{
 "cells": [
  {
   "cell_type": "code",
   "execution_count": 1,
   "id": "4df23bd3",
   "metadata": {
    "ExecuteTime": {
     "end_time": "2024-03-03T08:21:08.288212Z",
     "start_time": "2024-03-03T08:21:08.161586Z"
    }
   },
   "outputs": [
    {
     "ename": "ModuleNotFoundError",
     "evalue": "No module named 'CSV'",
     "output_type": "error",
     "traceback": [
      "\u001B[1;31m---------------------------------------------------------------------------\u001B[0m",
      "\u001B[1;31mModuleNotFoundError\u001B[0m                       Traceback (most recent call last)",
      "\u001B[1;32m~\\AppData\\Local\\Temp\\ipykernel_17128\\3023918357.py\u001B[0m in \u001B[0;36m<module>\u001B[1;34m\u001B[0m\n\u001B[1;32m----> 1\u001B[1;33m \u001B[1;32mimport\u001B[0m \u001B[0mCSV\u001B[0m\u001B[1;33m,\u001B[0m \u001B[0mDataFrames\u001B[0m\u001B[1;33m\u001B[0m\u001B[1;33m\u001B[0m\u001B[0m\n\u001B[0m\u001B[0;32m      2\u001B[0m \u001B[1;32mimport\u001B[0m \u001B[0mRandom\u001B[0m\u001B[1;33m\u001B[0m\u001B[1;33m\u001B[0m\u001B[0m\n\u001B[0;32m      3\u001B[0m \u001B[1;33m\u001B[0m\u001B[0m\n\u001B[0;32m      4\u001B[0m \u001B[0mt\u001B[0m \u001B[1;33m=\u001B[0m \u001B[0mMatrix\u001B[0m\u001B[1;33m(\u001B[0m \u001B[0mCSV\u001B[0m\u001B[1;33m.\u001B[0m\u001B[0mread\u001B[0m\u001B[1;33m(\u001B[0m\u001B[1;34m\"surface_512x512.txt\"\u001B[0m\u001B[1;33m,\u001B[0m\u001B[0mDataFrames\u001B[0m\u001B[1;33m.\u001B[0m\u001B[0mDataFrame\u001B[0m\u001B[1;33m,\u001B[0m \u001B[0mheader\u001B[0m\u001B[1;33m=\u001B[0m\u001B[0mfalse\u001B[0m\u001B[1;33m)\u001B[0m \u001B[1;33m)\u001B[0m\u001B[1;33m\u001B[0m\u001B[1;33m\u001B[0m\u001B[0m\n\u001B[0;32m      5\u001B[0m \u001B[1;33m(\u001B[0m\u001B[1;34m\"\"\u001B[0m\u001B[1;33m)\u001B[0m\u001B[1;33m\u001B[0m\u001B[1;33m\u001B[0m\u001B[0m\n",
      "\u001B[1;31mModuleNotFoundError\u001B[0m: No module named 'CSV'"
     ]
    }
   ],
   "source": [
    "import CSV, DataFrames\n",
    "import Random\n",
    "\n",
    "t = Matrix( CSV.read(\"surface_512x512.txt\",DataFrames.DataFrame, header=false) )\n",
    ";"
   ]
  },
  {
   "cell_type": "code",
   "execution_count": null,
   "id": "564338c1",
   "metadata": {},
   "outputs": [],
   "source": [
    "import Plots\n",
    "Plots.gr(fmt = :png)"
   ]
  },
  {
   "cell_type": "code",
   "execution_count": null,
   "id": "dbdd92d0",
   "metadata": {
    "scrolled": false
   },
   "outputs": [],
   "source": [
    "Plots.scatter3d(t[:,1],t[:,2],t[:,3],\n",
    "    size=(900,700),legend=false, \n",
    "    ms=1.4,mscolor=:blue,\n",
    "    title = \"Energia-szintek\"\n",
    ")\n",
    "# NAAAGYON lassuuuu!!!"
   ]
  },
  {
   "cell_type": "code",
   "execution_count": null,
   "id": "577f5435",
   "metadata": {},
   "outputs": [],
   "source": [
    "n_sq = Int(round(sqrt(size(t,1))))\n",
    "z = reshape(t[:,3],(n_sq,n_sq))\n",
    "ind_obst = findall(t[:,4].==1)\n",
    "Plots.gr()\n",
    "p = Plots.contour(z, colorbar=false,size=(800,500))\n",
    "Plots.scatter!(p,t[ind_obst,1],t[ind_obst,2],marker=:rect,ms=1.3,legend=false,\n",
    "    title = \"Pálya akadályokkal\"\n",
    ")"
   ]
  },
  {
   "cell_type": "code",
   "execution_count": null,
   "id": "dd12386d",
   "metadata": {},
   "outputs": [],
   "source": [
    "# getting the obstacles\n",
    "\n",
    "dd = Dict([ (i,j) => b for (i,j,k,b) in eachrow(t) if b==1]...)\n",
    "\n",
    "@show length(dd)"
   ]
  },
  {
   "cell_type": "code",
   "execution_count": null,
   "id": "a0751984",
   "metadata": {},
   "outputs": [],
   "source": [
    "# declaring the parameter for the wall:\n",
    "s_neigh = 14"
   ]
  },
  {
   "cell_type": "code",
   "execution_count": null,
   "id": "8da1b246",
   "metadata": {},
   "outputs": [],
   "source": [
    "# removing within NEIGH\n",
    "for (i_key,_) in dd\n",
    "    # @show i_key\n",
    "    for (j_key,_) in dd\n",
    "        if (i_key != j_key) && maximum( abs.(i_key .- j_key) ) < s_neigh\n",
    "            delete!(dd,j_key)\n",
    "        end\n",
    "    end\n",
    "end\n",
    "@show length(dd)"
   ]
  },
  {
   "cell_type": "code",
   "execution_count": null,
   "id": "580b68f2",
   "metadata": {},
   "outputs": [],
   "source": [
    "# displaying again the obstacles\n",
    "p = Plots.contour(z, colorbar=false,size=(800,500))\n",
    "r_x = hcat([[z[1],z[2]] for (z,_) in dd]...)\n",
    "p = Plots.scatter!(p, r_x[1,:],r_x[2,:],legend=false,ms=2,marker=:rect,\n",
    "    title = \"Ritkított akadályok\"\n",
    ")"
   ]
  },
  {
   "cell_type": "code",
   "execution_count": null,
   "id": "7565553d",
   "metadata": {},
   "outputs": [],
   "source": [
    "# adding walls\n",
    "n_brick = 1.5 * s_neigh\n",
    "dd2 = Dict()\n",
    "for (pos,_) in dd\n",
    "    dir = sign(randn())\n",
    "    e = randn()>0 ? (1,0) : (0,1)\n",
    "    for i=0:n_brick\n",
    "        p2 = pos .+ i .* e\n",
    "        if all(p2 .< n_sq)\n",
    "            merge!(dd2, Dict(p2 => 1) )\n",
    "        end\n",
    "    end\n",
    "end"
   ]
  },
  {
   "cell_type": "code",
   "execution_count": null,
   "id": "47c87844",
   "metadata": {},
   "outputs": [],
   "source": [
    "p = Plots.contour(z, colorbar=false,size=(800,500))\n",
    "r_x = hcat([[z[1],z[2]] for (z,_) in dd2]...)\n",
    "p = Plots.scatter!(p, r_x[1,:],r_x[2,:],legend=false,marker=:rect,ms=1.3,\n",
    "    title = \"Hosszabbított akadályok\"\n",
    ")\n",
    "# Plots.savefig(\"contour_$(n_sq).pdf\")"
   ]
  },
  {
   "cell_type": "code",
   "execution_count": null,
   "id": "7cbbf991",
   "metadata": {},
   "outputs": [],
   "source": [
    "# saving into a CSV\n",
    "import DelimitedFiles\n",
    "\n",
    "open(\"large_512x512_n.csv\",\"w\") do io\n",
    "    for jj = 1:n_sq\n",
    "        for ii = 1:n_sq \n",
    "            write(io,\"$(ii-1) $(jj-1) $(z[ii,jj]) $((haskey(dd2,(ii,jj)) ? 1 : 0))\\n\")\n",
    "        end\n",
    "    end\n",
    "end\n"
   ]
  },
  {
   "cell_type": "code",
   "execution_count": null,
   "id": "151cdf93",
   "metadata": {},
   "outputs": [],
   "source": []
  }
 ],
 "metadata": {
  "kernelspec": {
   "name": "python3",
   "language": "python",
   "display_name": "Python 3 (ipykernel)"
  },
  "language_info": {
   "file_extension": ".jl",
   "mimetype": "application/julia",
   "name": "julia",
   "version": "1.8.5"
  }
 },
 "nbformat": 4,
 "nbformat_minor": 5
}
